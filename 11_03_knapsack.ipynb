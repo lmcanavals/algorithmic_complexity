{
  "nbformat": 4,
  "nbformat_minor": 0,
  "metadata": {
    "colab": {
      "name": "11-03-knapsack.ipynb",
      "provenance": [],
      "authorship_tag": "ABX9TyMPkWHnE7DVnn0Sc0+OxqsZ",
      "include_colab_link": true
    },
    "kernelspec": {
      "name": "python3",
      "display_name": "Python 3"
    },
    "language_info": {
      "name": "python"
    }
  },
  "cells": [
    {
      "cell_type": "markdown",
      "metadata": {
        "id": "view-in-github",
        "colab_type": "text"
      },
      "source": [
        "<a href=\"https://colab.research.google.com/github/lmcanavals/algorithmic_complexity/blob/main/11_03_knapsack.ipynb\" target=\"_parent\"><img src=\"https://colab.research.google.com/assets/colab-badge.svg\" alt=\"Open In Colab\"/></a>"
      ]
    },
    {
      "cell_type": "code",
      "metadata": {
        "id": "Am7tYSxwYkv6"
      },
      "source": [
        "def knapsack1(N, M, V, W):\n",
        "  if N == 0 or M == 0:\n",
        "    return 0\n",
        "  else:\n",
        "    if M < W[N]:\n",
        "      return knapsack1(N - 1, M, V, W)\n",
        "    else:\n",
        "      T1 = V[N] + knapsack1(N-1, M - W[N], V, W)\n",
        "      T2 = knapsack1(N-1, M, V, W)\n",
        "      return max(T1, T2)"
      ],
      "execution_count": 9,
      "outputs": []
    },
    {
      "cell_type": "code",
      "metadata": {
        "colab": {
          "base_uri": "https://localhost:8080/"
        },
        "id": "-CFefb_GZrs_",
        "outputId": "581da2b6-4dba-456a-bee5-e40a9c6334fd"
      },
      "source": [
        "V = [0, 3, 4, 5, 6]\n",
        "W = [0, 2, 3, 4, 5]\n",
        "N = 4\n",
        "M = 5\n",
        "knapsack1(N, M, V, W)"
      ],
      "execution_count": 11,
      "outputs": [
        {
          "output_type": "execute_result",
          "data": {
            "text/plain": [
              "7"
            ]
          },
          "metadata": {},
          "execution_count": 11
        }
      ]
    },
    {
      "cell_type": "code",
      "metadata": {
        "id": "PfZZX8mLZ4uP"
      },
      "source": [
        "def knapsack2(N, M, V, W):\n",
        "  C = [[0] * (M + 1) for _ in range(N+1)]\n",
        "  for Ni in range(1, N + 1):\n",
        "    for Mi in range(1, M + 1):\n",
        "      if Mi < W[Ni]:\n",
        "        C[Ni][Mi] = C[Ni - 1][Mi]\n",
        "      else:\n",
        "        T1 = V[Ni] + C[Ni - 1][Mi - W[Ni]]\n",
        "        T2 = C[Ni - 1][Mi]\n",
        "        C[Ni][Mi] = max(T1, T2)\n",
        "\n",
        "  return C[N][M]"
      ],
      "execution_count": 16,
      "outputs": []
    },
    {
      "cell_type": "code",
      "metadata": {
        "colab": {
          "base_uri": "https://localhost:8080/"
        },
        "id": "qR4_hSIebTei",
        "outputId": "6d9c97e9-c494-402d-855d-08d206906070"
      },
      "source": [
        "V = [0, 3, 4, 5, 6]\n",
        "W = [0, 2, 3, 4, 5]\n",
        "N = 4\n",
        "M = 5\n",
        "knapsack2(N, M, V, W)"
      ],
      "execution_count": 19,
      "outputs": [
        {
          "output_type": "execute_result",
          "data": {
            "text/plain": [
              "7"
            ]
          },
          "metadata": {},
          "execution_count": 19
        }
      ]
    },
    {
      "cell_type": "code",
      "metadata": {
        "colab": {
          "base_uri": "https://localhost:8080/"
        },
        "id": "D7EMUO1KbVxA",
        "outputId": "b5bf448e-b057-425d-df44-eb768a16e280"
      },
      "source": [
        "V = [0, 3, 4, 5, 6]\n",
        "W = [0, 2, 3, 4, 5]\n",
        "N = 4\n",
        "M = 5\n",
        "%timeit knapsack1(N, M, V, W)\n",
        "%timeit knapsack2(N, M, V, W)"
      ],
      "execution_count": 20,
      "outputs": [
        {
          "output_type": "stream",
          "name": "stdout",
          "text": [
            "100000 loops, best of 5: 4.18 µs per loop\n",
            "100000 loops, best of 5: 11.1 µs per loop\n"
          ]
        }
      ]
    },
    {
      "cell_type": "code",
      "metadata": {
        "id": "kIYU1UDrdNHE"
      },
      "source": [
        ""
      ],
      "execution_count": null,
      "outputs": []
    }
  ]
}