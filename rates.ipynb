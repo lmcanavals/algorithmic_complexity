{
 "cells": [
  {
   "cell_type": "code",
   "execution_count": 20,
   "metadata": {},
   "outputs": [],
   "source": [
    "def bellmanFord(G, s):\n",
    "  n = len(G)\n",
    "\n",
    "  # initialize\n",
    "  cost = [0]*n\n",
    "  cost[s] = 1\n",
    "  path = [-1]*n\n",
    "\n",
    "  # relax\n",
    "  for _ in range(n-1):\n",
    "    for u in range(n):\n",
    "      for v, rate in G[u]:\n",
    "        if cost[u] * rate > cost[v]:\n",
    "          if v == s and cost[u] * rate > 1:\n",
    "            return None, None\n",
    "          cost[v] = cost[u] * rate\n",
    "          path[v] = u\n",
    "\n",
    "  # check negative cycle\n",
    "  #for u in range(n):\n",
    "  #  for v, w in G[u]:\n",
    "  #    if cost[u] + w < cost[v]:\n",
    "  #      return None, None # negative cycle exists\n",
    "\n",
    "  return path, cost\n"
   ]
  },
  {
   "cell_type": "code",
   "execution_count": 21,
   "metadata": {},
   "outputs": [],
   "source": [
    "def fakestdingenerator(filename):\n",
    "  with open(filename) as f:\n",
    "    for line in f:\n",
    "      yield line.strip()\n",
    "\n",
    "fakestdin = fakestdingenerator('rates.in')\n",
    "\n",
    "def input():\n",
    "  return next(fakestdin)"
   ]
  },
  {
   "cell_type": "code",
   "execution_count": 22,
   "metadata": {},
   "outputs": [
    {
     "name": "stdout",
     "output_type": "stream",
     "text": [
      "([2, 0, 1], [1.1025, 0.525, 5.25])\n",
      "([-1, 0, 1], [1, 0.5, 5.0])\n"
     ]
    }
   ],
   "source": [
    "while True:\n",
    "  n = input().strip()\n",
    "  if n == '': continue\n",
    "  n = int(n)\n",
    "  if n == 0: break\n",
    "\n",
    "  currencies = dict()\n",
    "  for i in range(n):\n",
    "    currencies[input()] = i\n",
    "\n",
    "  m = int(input())\n",
    "  G = [[] for _ in range(n)]\n",
    "  for _ in range(m):\n",
    "    u, w, v = input().split()\n",
    "    u = currencies[u]\n",
    "    v = currencies[v]\n",
    "    w = float(w)\n",
    "    G[u].append((v, w))\n",
    "\n",
    "  print(bellmanFord(G, 0))\n"
   ]
  },
  {
   "cell_type": "code",
   "execution_count": null,
   "metadata": {},
   "outputs": [],
   "source": []
  }
 ],
 "metadata": {
  "interpreter": {
   "hash": "4f474a86eed9e6c4670bf29d3a8d4cd0e4752b3ab299a79a6cb3933799429917"
  },
  "kernelspec": {
   "display_name": "Python 3.9.7 64-bit ('Ξ': conda)",
   "language": "python",
   "name": "python3"
  },
  "language_info": {
   "codemirror_mode": {
    "name": "ipython",
    "version": 3
   },
   "file_extension": ".py",
   "mimetype": "text/x-python",
   "name": "python",
   "nbconvert_exporter": "python",
   "pygments_lexer": "ipython3",
   "version": "3.9.7"
  },
  "orig_nbformat": 4
 },
 "nbformat": 4,
 "nbformat_minor": 2
}
