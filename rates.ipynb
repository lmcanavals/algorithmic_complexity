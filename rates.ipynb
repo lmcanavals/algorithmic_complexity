{
 "cells": [
  {
   "cell_type": "code",
   "execution_count": 3,
   "metadata": {},
   "outputs": [],
   "source": [
    "import numpy as np\n",
    "\n",
    "def pseudoFloydWarshall(graph):\n",
    "  \"\"\"\n",
    "  Pseudo-Floyd-Warshall algorithm\n",
    "  \"\"\"\n",
    "  n = len(graph)\n",
    "  dist = np.zeros((n, n))\n",
    "  for i in range(n):\n",
    "    dist[i, i] = 1\n",
    "    for j in range(n):\n",
    "      dist[i, j] = graph[i, j]\n",
    "  for k in range(n):\n",
    "    for i in range(n):\n",
    "      for j in range(n):\n",
    "        dist[i, j] = max(dist[i, j], dist[i, k] * dist[k, j])\n",
    "        \n",
    "  return dist"
   ]
  },
  {
   "cell_type": "code",
   "execution_count": null,
   "metadata": {},
   "outputs": [],
   "source": [
    "%%file rates.in\n",
    "3\n",
    "USDollar\n",
    "BritishPound\n",
    "FrenchFranc\n",
    "3\n",
    "USDollar 0.5 BritishPound\n",
    "BritishPound 10.0 FrenchFranc\n",
    "FrenchFranc 0.21 USDollar\n",
    "\n",
    "3\n",
    "USDollar\n",
    "BritishPound\n",
    "FrenchFranc\n",
    "6\n",
    "USDollar 0.5 BritishPound\n",
    "USDollar 4.9 FrenchFranc\n",
    "BritishPound 10.0 FrenchFranc\n",
    "BritishPound 1.99 USDollar\n",
    "FrenchFranc 0.09 BritishPound\n",
    "FrenchFranc 0.19 USDollar\n",
    "\n",
    "0"
   ]
  },
  {
   "cell_type": "code",
   "execution_count": 8,
   "metadata": {},
   "outputs": [
    {
     "name": "stdout",
     "output_type": "stream",
     "text": [
      "Case 1: yes\n",
      "Case 2: no\n"
     ]
    }
   ],
   "source": [
    "def pseudoStdInGenerator(filename):\n",
    "  with open(filename) as f:\n",
    "    for line in f:\n",
    "      yield line.strip()\n",
    "\n",
    "stdin = pseudoStdInGenerator(\"rates.in\")\n",
    "\n",
    "def input():\n",
    "  return next(stdin)\n",
    "\n",
    "caseNro = 1\n",
    "while True:\n",
    "  n = input().strip()\n",
    "  if n == \"\": continue\n",
    "  n = int(n)\n",
    "  if n == 0: break\n",
    "\n",
    "  currencies = dict()\n",
    "  for i in range(n):\n",
    "    currencies[input()] = i\n",
    "\n",
    "  graph = np.zeros((n, n))\n",
    "  m = int(input().strip())\n",
    "  for _ in range(m):\n",
    "    u, rate, v = input().strip().split()\n",
    "    u = currencies[u]\n",
    "    v = currencies[v]\n",
    "    graph[u, v] = float(rate)\n",
    "\n",
    "  rates = pseudoFloydWarshall(graph)\n",
    "  flag = False\n",
    "  for i in range(n):\n",
    "    if rates[i, i] > 1:\n",
    "      flag = True\n",
    "      \n",
    "  print(f\"Case {caseNro}: { 'yes' if flag else 'no' }\")\n",
    "  caseNro += 1"
   ]
  },
  {
   "cell_type": "code",
   "execution_count": null,
   "metadata": {},
   "outputs": [],
   "source": []
  }
 ],
 "metadata": {
  "interpreter": {
   "hash": "4f474a86eed9e6c4670bf29d3a8d4cd0e4752b3ab299a79a6cb3933799429917"
  },
  "kernelspec": {
   "display_name": "Python 3.9.7 64-bit ('Ξ': conda)",
   "language": "python",
   "name": "python3"
  },
  "language_info": {
   "codemirror_mode": {
    "name": "ipython",
    "version": 3
   },
   "file_extension": ".py",
   "mimetype": "text/x-python",
   "name": "python",
   "nbconvert_exporter": "python",
   "pygments_lexer": "ipython3",
   "version": "3.9.7"
  },
  "orig_nbformat": 4
 },
 "nbformat": 4,
 "nbformat_minor": 2
}
