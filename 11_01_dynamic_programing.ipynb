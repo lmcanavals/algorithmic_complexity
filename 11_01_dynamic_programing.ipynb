{
 "cells": [
  {
   "cell_type": "markdown",
   "metadata": {},
   "source": [
    "# Dynamic Programming"
   ]
  },
  {
   "cell_type": "markdown",
   "metadata": {},
   "source": [
    "## Fibonacci (terrible recursive implementation)"
   ]
  },
  {
   "cell_type": "code",
   "execution_count": 1,
   "metadata": {},
   "outputs": [],
   "source": [
    "def fib(n):\n",
    "  if n < 2:\n",
    "    return n\n",
    "  else:\n",
    "    return fib(n-1) + fib(n-2)"
   ]
  },
  {
   "cell_type": "code",
   "execution_count": 2,
   "metadata": {},
   "outputs": [
    {
     "data": {
      "text/plain": [
       "55"
      ]
     },
     "execution_count": 2,
     "metadata": {},
     "output_type": "execute_result"
    }
   ],
   "source": [
    "fib(10)"
   ]
  },
  {
   "cell_type": "code",
   "execution_count": 6,
   "metadata": {},
   "outputs": [
    {
     "name": "stdout",
     "output_type": "stream",
     "text": [
      "41.3 µs ± 2.34 µs per loop (mean ± std. dev. of 7 runs, 10000 loops each)\n",
      "5.42 ms ± 286 µs per loop (mean ± std. dev. of 7 runs, 100 loops each)\n"
     ]
    }
   ],
   "source": [
    "%timeit fib(10)\n",
    "%timeit fib(20)"
   ]
  },
  {
   "cell_type": "markdown",
   "metadata": {},
   "source": [
    "## Dynamic programming implementation of fibonacci"
   ]
  },
  {
   "cell_type": "code",
   "execution_count": 9,
   "metadata": {},
   "outputs": [],
   "source": [
    "def fib2(n, T):\n",
    "  if n < 2:\n",
    "    T[0] = 0\n",
    "    T[1] = 1\n",
    "    return T[n]\n",
    "  else:\n",
    "    fib2(n-1, T)\n",
    "    T[n] = T[n-1] + T[n-2]\n",
    "    return T[n]"
   ]
  },
  {
   "cell_type": "code",
   "execution_count": 11,
   "metadata": {},
   "outputs": [
    {
     "data": {
      "text/plain": [
       "55"
      ]
     },
     "execution_count": 11,
     "metadata": {},
     "output_type": "execute_result"
    }
   ],
   "source": [
    "fib2(10, list(range(11)))"
   ]
  },
  {
   "cell_type": "code",
   "execution_count": 12,
   "metadata": {},
   "outputs": [
    {
     "name": "stdout",
     "output_type": "stream",
     "text": [
      "4.79 µs ± 159 ns per loop (mean ± std. dev. of 7 runs, 100000 loops each)\n",
      "11.8 µs ± 1.48 µs per loop (mean ± std. dev. of 7 runs, 100000 loops each)\n",
      "65.4 µs ± 1.99 µs per loop (mean ± std. dev. of 7 runs, 10000 loops each)\n"
     ]
    }
   ],
   "source": [
    "%timeit fib2(10, list(range(11)))\n",
    "%timeit fib2(20, list(range(21)))\n",
    "%timeit fib2(100, list(range(101)))"
   ]
  },
  {
   "cell_type": "markdown",
   "metadata": {},
   "source": [
    "## The coin problem"
   ]
  },
  {
   "cell_type": "markdown",
   "metadata": {},
   "source": [
    "### The brute force (backtracking)"
   ]
  },
  {
   "cell_type": "code",
   "execution_count": 5,
   "metadata": {},
   "outputs": [],
   "source": [
    "def c(n, D):\n",
    "  if n == 0:\n",
    "    return 0\n",
    "  else:\n",
    "    pos = []\n",
    "    for di in D:\n",
    "      if di <= n:\n",
    "        pos.append(c(n-di, D))\n",
    "    return min(pos) + 1"
   ]
  },
  {
   "cell_type": "code",
   "execution_count": 6,
   "metadata": {},
   "outputs": [
    {
     "data": {
      "text/plain": [
       "2"
      ]
     },
     "execution_count": 6,
     "metadata": {},
     "output_type": "execute_result"
    }
   ],
   "source": [
    "c(40, [50, 20, 10, 5, 1])"
   ]
  },
  {
   "cell_type": "code",
   "execution_count": 7,
   "metadata": {},
   "outputs": [
    {
     "data": {
      "text/plain": [
       "2"
      ]
     },
     "execution_count": 7,
     "metadata": {},
     "output_type": "execute_result"
    }
   ],
   "source": [
    "c(40, [50, 25, 20, 10, 5, 1])"
   ]
  },
  {
   "cell_type": "markdown",
   "metadata": {},
   "source": [
    "### The greedy way"
   ]
  },
  {
   "cell_type": "code",
   "execution_count": 29,
   "metadata": {},
   "outputs": [],
   "source": [
    "def c2(n, D):\n",
    "  R = dict()\n",
    "  for di in D:\n",
    "    if di <= n:\n",
    "      R[di] = n // di\n",
    "      n = n % di\n",
    "  return R"
   ]
  },
  {
   "cell_type": "code",
   "execution_count": 30,
   "metadata": {},
   "outputs": [
    {
     "data": {
      "text/plain": [
       "{20: 2}"
      ]
     },
     "execution_count": 30,
     "metadata": {},
     "output_type": "execute_result"
    }
   ],
   "source": [
    "c2(40, [50, 20, 10, 5, 1])"
   ]
  },
  {
   "cell_type": "code",
   "execution_count": 31,
   "metadata": {},
   "outputs": [
    {
     "data": {
      "text/plain": [
       "{25: 1, 10: 1, 5: 1}"
      ]
     },
     "execution_count": 31,
     "metadata": {},
     "output_type": "execute_result"
    }
   ],
   "source": [
    "c2(40, [50, 25, 20, 10, 5, 1])"
   ]
  },
  {
   "cell_type": "markdown",
   "metadata": {},
   "source": [
    "### The DP way"
   ]
  },
  {
   "cell_type": "code",
   "execution_count": 12,
   "metadata": {},
   "outputs": [],
   "source": [
    "def c3(n, D):\n",
    "  C = [float('inf')] * (n+1)\n",
    "  C[0] = 0\n",
    "  S = [0] * (n+1)\n",
    "  for i in range(1, n + 1):\n",
    "    for di in D:\n",
    "      if di <= i:\n",
    "        if C[i-di] + 1 < C[i]:\n",
    "          C[i] = C[i-di] + 1\n",
    "          S[i] = di\n",
    "\n",
    "  return C, S"
   ]
  },
  {
   "cell_type": "code",
   "execution_count": 13,
   "metadata": {},
   "outputs": [
    {
     "name": "stdout",
     "output_type": "stream",
     "text": [
      "2\n",
      "20\n",
      "20\n"
     ]
    }
   ],
   "source": [
    "n = 40\n",
    "C, S = c3(40, [50, 20, 10, 5, 1])\n",
    "print(C[n])\n",
    "while n > 0:\n",
    "  print(S[n])\n",
    "  n -= S[n]"
   ]
  },
  {
   "cell_type": "code",
   "execution_count": 14,
   "metadata": {},
   "outputs": [
    {
     "name": "stdout",
     "output_type": "stream",
     "text": [
      "2\n",
      "20\n",
      "20\n"
     ]
    }
   ],
   "source": [
    "n = 40\n",
    "C, S = c3(40, [50, 25, 20, 10, 5, 1])\n",
    "print(C[n])\n",
    "while n > 0:\n",
    "  print(S[n])\n",
    "  n -= S[n]"
   ]
  },
  {
   "cell_type": "code",
   "execution_count": 15,
   "metadata": {},
   "outputs": [
    {
     "name": "stdout",
     "output_type": "stream",
     "text": [
      "6\n",
      "50\n",
      "20\n",
      "10\n",
      "5\n",
      "1\n",
      "1\n"
     ]
    }
   ],
   "source": [
    "n = 87\n",
    "C, S = c3(n, [50, 20, 10, 5, 1])\n",
    "print(C[n])\n",
    "while n > 0:\n",
    "  print(S[n])\n",
    "  n -= S[n]"
   ]
  },
  {
   "cell_type": "markdown",
   "metadata": {},
   "source": [
    "## Time comparison"
   ]
  },
  {
   "cell_type": "code",
   "execution_count": 16,
   "metadata": {},
   "outputs": [
    {
     "name": "stdout",
     "output_type": "stream",
     "text": [
      "252 ms ± 28.6 ms per loop (mean ± std. dev. of 7 runs, 1 loop each)\n",
      "1.1 µs ± 110 ns per loop (mean ± std. dev. of 7 runs, 1000000 loops each)\n",
      "56.2 µs ± 1.91 µs per loop (mean ± std. dev. of 7 runs, 10000 loops each)\n"
     ]
    }
   ],
   "source": [
    "%timeit c(40, [50, 20, 10, 5, 1])\n",
    "%timeit c2(40, [50, 20, 10, 5, 1])\n",
    "%timeit c3(40, [50, 20, 10, 5, 1])"
   ]
  },
  {
   "cell_type": "code",
   "execution_count": 27,
   "metadata": {},
   "outputs": [],
   "source": [
    "def FibonacciBU(cant):\n",
    "  s = [0, 1] + [None]*(cant-1)\n",
    "  def _FibonacciBU(i):\n",
    "    if s[i] != None:\n",
    "      return s[i]\n",
    "    else:\n",
    "      t1 = _FibonacciBU(i-1)\n",
    "      t2 = _FibonacciBU(i-2)\n",
    "      s[i] = t1 + t2\n",
    "      return s[i]\n",
    "  _FibonacciBU(cant)\n",
    "  return s"
   ]
  },
  {
   "cell_type": "code",
   "execution_count": 28,
   "metadata": {},
   "outputs": [
    {
     "data": {
      "text/plain": [
       "[0, 1, 1, 2, 3, 5, 8, 13, 21, 34, 55]"
      ]
     },
     "execution_count": 28,
     "metadata": {},
     "output_type": "execute_result"
    }
   ],
   "source": [
    "FibonacciBU(10)"
   ]
  },
  {
   "cell_type": "code",
   "execution_count": null,
   "metadata": {},
   "outputs": [],
   "source": []
  }
 ],
 "metadata": {
  "interpreter": {
   "hash": "4f474a86eed9e6c4670bf29d3a8d4cd0e4752b3ab299a79a6cb3933799429917"
  },
  "kernelspec": {
   "display_name": "Python 3.9.7 64-bit ('Ξ': conda)",
   "name": "python3"
  },
  "language_info": {
   "codemirror_mode": {
    "name": "ipython",
    "version": 3
   },
   "file_extension": ".py",
   "mimetype": "text/x-python",
   "name": "python",
   "nbconvert_exporter": "python",
   "pygments_lexer": "ipython3",
   "version": "3.9.7"
  },
  "orig_nbformat": 4
 },
 "nbformat": 4,
 "nbformat_minor": 2
}
