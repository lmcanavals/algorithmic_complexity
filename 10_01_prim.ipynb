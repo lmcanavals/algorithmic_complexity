{
  "nbformat": 4,
  "nbformat_minor": 0,
  "metadata": {
    "colab": {
      "name": "10-01-prim.ipynb",
      "provenance": [],
      "authorship_tag": "ABX9TyOMrWJFAa1t7B4oMb8OqQ0q",
      "include_colab_link": true
    },
    "kernelspec": {
      "name": "python3",
      "display_name": "Python 3"
    },
    "language_info": {
      "name": "python"
    }
  },
  "cells": [
    {
      "cell_type": "markdown",
      "metadata": {
        "id": "view-in-github",
        "colab_type": "text"
      },
      "source": [
        "<a href=\"https://colab.research.google.com/github/lmcanavals/algorithmic_complexity/blob/main/10_01_prim.ipynb\" target=\"_parent\"><img src=\"https://colab.research.google.com/assets/colab-badge.svg\" alt=\"Open In Colab\"/></a>"
      ]
    },
    {
      "cell_type": "markdown",
      "metadata": {
        "id": "w8BVXVB7o6iT"
      },
      "source": [
        "# MST"
      ]
    },
    {
      "cell_type": "markdown",
      "metadata": {
        "id": "L1IQCcDqo-Gh"
      },
      "source": [
        "## Prim"
      ]
    },
    {
      "cell_type": "code",
      "metadata": {
        "id": "-F2OaTBDo14_"
      },
      "source": [
        "import graphviz as gv\n",
        "import numpy as np\n",
        "import pandas as pd\n",
        "import heapq as hq\n",
        "import math\n",
        "\n",
        "def readAdjl(fn, haslabels=False, weighted=False, sep=\"|\"):\n",
        "  with open(fn) as f:\n",
        "    labels = None\n",
        "    if haslabels:\n",
        "      labels = f.readline().strip().split()\n",
        "    L = []\n",
        "    for line in f:\n",
        "      if weighted:\n",
        "        L.append([tuple(map(int, p.split(sep))) for p in line.strip().split()])\n",
        "        # line => \"1|3 2|5 4|4\" ==> [(1, 3), (2, 5), (4, 4)]\n",
        "      else: \n",
        "        L.append(list(map(int, line.strip().split()))) # \"1 3 5\" => [1, 3, 5]\n",
        "        # L.append([int(x) for x in line.strip().split()])\n",
        "  return L, labels\n",
        "\n",
        "def adjlShow(L, labels=None, directed=False, weighted=False, path=[],\n",
        "             layout=\"sfdp\"):\n",
        "  g = gv.Digraph(\"G\") if directed else gv.Graph(\"G\")\n",
        "  g.graph_attr[\"layout\"] = layout\n",
        "  g.edge_attr[\"color\"] = \"gray\"\n",
        "  g.node_attr[\"color\"] = \"orangered\"\n",
        "  g.node_attr[\"width\"] = \"0.1\"\n",
        "  g.node_attr[\"height\"] = \"0.1\"\n",
        "  g.node_attr[\"fontsize\"] = \"8\"\n",
        "  g.node_attr[\"fontcolor\"] = \"mediumslateblue\"\n",
        "  g.node_attr[\"fontname\"] = \"monospace\"\n",
        "  g.edge_attr[\"fontsize\"] = \"8\"\n",
        "  g.edge_attr[\"fontname\"] = \"monospace\"\n",
        "  n = len(L)\n",
        "  for u in range(n):\n",
        "    g.node(str(u), labels[u] if labels else str(u))\n",
        "  added = set()\n",
        "  for v, u in enumerate(path):\n",
        "    if u != None:\n",
        "      if weighted:\n",
        "        for vi, w in G[u]:\n",
        "          if vi == v:\n",
        "            break\n",
        "        g.edge(str(u), str(v), str(w), dir=\"forward\", penwidth=\"2\", color=\"orange\")\n",
        "      else:\n",
        "        g.edge(str(u), str(v), dir=\"forward\", penwidth=\"2\", color=\"orange\")\n",
        "      added.add(f\"{u},{v}\")\n",
        "      added.add(f\"{v},{u}\")\n",
        "  if weighted:\n",
        "    for u in range(n):\n",
        "      for v, w in L[u]:\n",
        "        if not directed and not f\"{u},{v}\" in added:\n",
        "          added.add(f\"{u},{v}\")\n",
        "          added.add(f\"{v},{u}\")\n",
        "          g.edge(str(u), str(v), str(w))\n",
        "        elif directed:\n",
        "          g.edge(str(u), str(v), str(w))\n",
        "  else:\n",
        "    for u in range(n):\n",
        "      for v in L[u]:\n",
        "        if not directed and not f\"{u},{v}\" in added:\n",
        "          added.add(f\"{u},{v}\")\n",
        "          added.add(f\"{v},{u}\")\n",
        "          g.edge(str(u), str(v))\n",
        "        elif directed:\n",
        "          g.edge(str(u), str(v))\n",
        "  return g"
      ],
      "execution_count": 1,
      "outputs": []
    },
    {
      "cell_type": "code",
      "metadata": {
        "colab": {
          "base_uri": "https://localhost:8080/"
        },
        "id": "0GvKgUDVpRgM",
        "outputId": "b753f0e3-1bbb-48d8-dbe3-920ab98bbcff"
      },
      "source": [
        "%%file 1.in\n",
        "2|3 3|8 4|9\n",
        "2|1 3|7 5|7\n",
        "0|3 1|1 4|8 6|7\n",
        "0|8 1|7 5|2\n",
        "0|9 2|8 7|6\n",
        "1|7 3|2 6|2 7|9\n",
        "2|7 5|2 7|1\n",
        "4|6 5|9 6|1"
      ],
      "execution_count": 2,
      "outputs": [
        {
          "output_type": "stream",
          "name": "stdout",
          "text": [
            "Writing 1.in\n"
          ]
        }
      ]
    },
    {
      "cell_type": "code",
      "metadata": {
        "colab": {
          "base_uri": "https://localhost:8080/",
          "height": 348
        },
        "id": "TzXNlRAFpzR8",
        "outputId": "65000acf-f1b3-4782-9b48-fc5deddc1054"
      },
      "source": [
        "G, _ = readAdjl(\"1.in\", weighted=True)\n",
        "adjlShow(G, weighted=True)"
      ],
      "execution_count": 6,
      "outputs": [
        {
          "output_type": "execute_result",
          "data": {
            "text/plain": [
              "<graphviz.dot.Graph at 0x7f82beb47a10>"
            ],
            "image/svg+xml": "<?xml version=\"1.0\" encoding=\"UTF-8\" standalone=\"no\"?>\n<!DOCTYPE svg PUBLIC \"-//W3C//DTD SVG 1.1//EN\"\n \"http://www.w3.org/Graphics/SVG/1.1/DTD/svg11.dtd\">\n<!-- Generated by graphviz version 2.40.1 (20161225.0304)\n -->\n<!-- Title: G Pages: 1 -->\n<svg width=\"305pt\" height=\"246pt\"\n viewBox=\"0.00 0.00 304.62 245.92\" xmlns=\"http://www.w3.org/2000/svg\" xmlns:xlink=\"http://www.w3.org/1999/xlink\">\n<g id=\"graph0\" class=\"graph\" transform=\"scale(1 1) rotate(0) translate(4 241.921)\">\n<title>G</title>\n<polygon fill=\"#ffffff\" stroke=\"transparent\" points=\"-4,4 -4,-241.921 300.6174,-241.921 300.6174,4 -4,4\"/>\n<!-- 0 -->\n<g id=\"node1\" class=\"node\">\n<title>0</title>\n<ellipse fill=\"none\" stroke=\"#ff4500\" cx=\"82.1628\" cy=\"-12.2138\" rx=\"15.6129\" ry=\"12.0417\"/>\n<text text-anchor=\"middle\" x=\"82.1628\" y=\"-10.3138\" font-family=\"monospace\" font-size=\"8.00\" fill=\"#7b68ee\">0</text>\n</g>\n<!-- 2 -->\n<g id=\"node3\" class=\"node\">\n<title>2</title>\n<ellipse fill=\"none\" stroke=\"#ff4500\" cx=\"148.4456\" cy=\"-115.9396\" rx=\"15.6129\" ry=\"12.0417\"/>\n<text text-anchor=\"middle\" x=\"148.4456\" y=\"-114.0396\" font-family=\"monospace\" font-size=\"8.00\" fill=\"#7b68ee\">2</text>\n</g>\n<!-- 0&#45;&#45;2 -->\n<g id=\"edge1\" class=\"edge\">\n<title>0&#45;&#45;2</title>\n<path fill=\"none\" stroke=\"#c0c0c0\" d=\"M89.2562,-23.3143C102.0138,-43.2786 128.6828,-85.0128 141.4031,-104.9189\"/>\n<text text-anchor=\"middle\" x=\"112.3297\" y=\"-66.7166\" font-family=\"monospace\" font-size=\"8.00\" fill=\"#000000\">3</text>\n</g>\n<!-- 3 -->\n<g id=\"node4\" class=\"node\">\n<title>3</title>\n<ellipse fill=\"none\" stroke=\"#ff4500\" cx=\"15.5563\" cy=\"-133.9338\" rx=\"15.6129\" ry=\"12.0417\"/>\n<text text-anchor=\"middle\" x=\"15.5563\" y=\"-132.0338\" font-family=\"monospace\" font-size=\"8.00\" fill=\"#7b68ee\">3</text>\n</g>\n<!-- 0&#45;&#45;3 -->\n<g id=\"edge2\" class=\"edge\">\n<title>0&#45;&#45;3</title>\n<path fill=\"none\" stroke=\"#c0c0c0\" d=\"M76.016,-23.4467C63.3272,-46.6349 34.3644,-99.5631 21.6883,-122.728\"/>\n<text text-anchor=\"middle\" x=\"45.8521\" y=\"-75.6874\" font-family=\"monospace\" font-size=\"8.00\" fill=\"#000000\">8</text>\n</g>\n<!-- 4 -->\n<g id=\"node5\" class=\"node\">\n<title>4</title>\n<ellipse fill=\"none\" stroke=\"#ff4500\" cx=\"214.2043\" cy=\"-12.0208\" rx=\"15.6129\" ry=\"12.0417\"/>\n<text text-anchor=\"middle\" x=\"214.2043\" y=\"-10.1208\" font-family=\"monospace\" font-size=\"8.00\" fill=\"#7b68ee\">4</text>\n</g>\n<!-- 0&#45;&#45;4 -->\n<g id=\"edge3\" class=\"edge\">\n<title>0&#45;&#45;4</title>\n<path fill=\"none\" stroke=\"#c0c0c0\" d=\"M97.8282,-12.1909C123.2408,-12.1538 173.1598,-12.0808 198.5593,-12.0437\"/>\n<text text-anchor=\"middle\" x=\"145.1937\" y=\"-14.7173\" font-family=\"monospace\" font-size=\"8.00\" fill=\"#000000\">9</text>\n</g>\n<!-- 1 -->\n<g id=\"node2\" class=\"node\">\n<title>1</title>\n<ellipse fill=\"none\" stroke=\"#ff4500\" cx=\"43.017\" cy=\"-225.9002\" rx=\"15.6129\" ry=\"12.0417\"/>\n<text text-anchor=\"middle\" x=\"43.017\" y=\"-224.0002\" font-family=\"monospace\" font-size=\"8.00\" fill=\"#7b68ee\">1</text>\n</g>\n<!-- 1&#45;&#45;2 -->\n<g id=\"edge4\" class=\"edge\">\n<title>1&#45;&#45;2</title>\n<path fill=\"none\" stroke=\"#c0c0c0\" d=\"M52.3731,-216.1419C72.3296,-195.3276 118.887,-146.7688 138.9589,-125.834\"/>\n<text text-anchor=\"middle\" x=\"92.666\" y=\"-173.588\" font-family=\"monospace\" font-size=\"8.00\" fill=\"#000000\">1</text>\n</g>\n<!-- 1&#45;&#45;3 -->\n<g id=\"edge5\" class=\"edge\">\n<title>1&#45;&#45;3</title>\n<path fill=\"none\" stroke=\"#c0c0c0\" d=\"M39.427,-213.8772C34.1351,-196.1546 24.3026,-163.2254 19.0604,-145.669\"/>\n<text text-anchor=\"middle\" x=\"26.2437\" y=\"-182.3731\" font-family=\"monospace\" font-size=\"8.00\" fill=\"#000000\">7</text>\n</g>\n<!-- 5 -->\n<g id=\"node6\" class=\"node\">\n<title>5</title>\n<ellipse fill=\"none\" stroke=\"#ff4500\" cx=\"148.3112\" cy=\"-220.6065\" rx=\"15.6129\" ry=\"12.0417\"/>\n<text text-anchor=\"middle\" x=\"148.3112\" y=\"-218.7065\" font-family=\"monospace\" font-size=\"8.00\" fill=\"#7b68ee\">5</text>\n</g>\n<!-- 1&#45;&#45;5 -->\n<g id=\"edge6\" class=\"edge\">\n<title>1&#45;&#45;5</title>\n<path fill=\"none\" stroke=\"#c0c0c0\" d=\"M58.5535,-225.1191C78.4611,-224.1182 112.7727,-222.3932 132.711,-221.3908\"/>\n<text text-anchor=\"middle\" x=\"92.6322\" y=\"-225.855\" font-family=\"monospace\" font-size=\"8.00\" fill=\"#000000\">7</text>\n</g>\n<!-- 2&#45;&#45;4 -->\n<g id=\"edge7\" class=\"edge\">\n<title>2&#45;&#45;4</title>\n<path fill=\"none\" stroke=\"#c0c0c0\" d=\"M155.4829,-104.8184C168.1396,-84.817 194.5977,-43.0051 207.2176,-23.062\"/>\n<text text-anchor=\"middle\" x=\"178.3502\" y=\"-66.5402\" font-family=\"monospace\" font-size=\"8.00\" fill=\"#000000\">8</text>\n</g>\n<!-- 6 -->\n<g id=\"node7\" class=\"node\">\n<title>6</title>\n<ellipse fill=\"none\" stroke=\"#ff4500\" cx=\"254.2273\" cy=\"-225.7049\" rx=\"15.6129\" ry=\"12.0417\"/>\n<text text-anchor=\"middle\" x=\"254.2273\" y=\"-223.8049\" font-family=\"monospace\" font-size=\"8.00\" fill=\"#7b68ee\">6</text>\n</g>\n<!-- 2&#45;&#45;6 -->\n<g id=\"edge8\" class=\"edge\">\n<title>2&#45;&#45;6</title>\n<path fill=\"none\" stroke=\"#c0c0c0\" d=\"M157.833,-125.6805C177.8563,-146.4579 224.5697,-194.9304 244.7089,-215.828\"/>\n<text text-anchor=\"middle\" x=\"198.2709\" y=\"-173.3543\" font-family=\"monospace\" font-size=\"8.00\" fill=\"#000000\">7</text>\n</g>\n<!-- 3&#45;&#45;5 -->\n<g id=\"edge9\" class=\"edge\">\n<title>3&#45;&#45;5</title>\n<path fill=\"none\" stroke=\"#c0c0c0\" d=\"M27.8077,-141.9324C53.098,-158.4439 110.8245,-196.1323 136.0895,-212.6272\"/>\n<text text-anchor=\"middle\" x=\"78.9486\" y=\"-179.8798\" font-family=\"monospace\" font-size=\"8.00\" fill=\"#000000\">2</text>\n</g>\n<!-- 7 -->\n<g id=\"node8\" class=\"node\">\n<title>7</title>\n<ellipse fill=\"none\" stroke=\"#ff4500\" cx=\"281.0611\" cy=\"-133.5426\" rx=\"15.6129\" ry=\"12.0417\"/>\n<text text-anchor=\"middle\" x=\"281.0611\" y=\"-131.6426\" font-family=\"monospace\" font-size=\"8.00\" fill=\"#7b68ee\">7</text>\n</g>\n<!-- 4&#45;&#45;7 -->\n<g id=\"edge10\" class=\"edge\">\n<title>4&#45;&#45;7</title>\n<path fill=\"none\" stroke=\"#c0c0c0\" d=\"M220.3742,-23.2355C233.1107,-46.3859 262.1824,-99.2279 274.9061,-122.3551\"/>\n<text text-anchor=\"middle\" x=\"244.6402\" y=\"-75.3953\" font-family=\"monospace\" font-size=\"8.00\" fill=\"#000000\">6</text>\n</g>\n<!-- 5&#45;&#45;6 -->\n<g id=\"edge11\" class=\"edge\">\n<title>5&#45;&#45;6</title>\n<path fill=\"none\" stroke=\"#c0c0c0\" d=\"M163.9395,-221.3588C183.9647,-222.3227 218.4789,-223.9841 238.5349,-224.9495\"/>\n<text text-anchor=\"middle\" x=\"198.2372\" y=\"-225.7542\" font-family=\"monospace\" font-size=\"8.00\" fill=\"#000000\">2</text>\n</g>\n<!-- 5&#45;&#45;7 -->\n<g id=\"edge12\" class=\"edge\">\n<title>5&#45;&#45;7</title>\n<path fill=\"none\" stroke=\"#c0c0c0\" d=\"M160.5621,-212.5718C185.8515,-195.9858 243.5758,-158.1273 268.8399,-141.5579\"/>\n<text text-anchor=\"middle\" x=\"211.701\" y=\"-179.6649\" font-family=\"monospace\" font-size=\"8.00\" fill=\"#000000\">9</text>\n</g>\n<!-- 6&#45;&#45;7 -->\n<g id=\"edge13\" class=\"edge\">\n<title>6&#45;&#45;7</title>\n<path fill=\"none\" stroke=\"#c0c0c0\" d=\"M257.7354,-213.6563C262.9065,-195.8959 272.5145,-162.8965 277.637,-145.3028\"/>\n<text text-anchor=\"middle\" x=\"264.6862\" y=\"-182.0795\" font-family=\"monospace\" font-size=\"8.00\" fill=\"#000000\">1</text>\n</g>\n</g>\n</svg>\n"
          },
          "metadata": {},
          "execution_count": 6
        }
      ]
    },
    {
      "cell_type": "code",
      "metadata": {
        "id": "OpeN-Li9p5Y4"
      },
      "source": [
        "def prim(G):\n",
        "  n = len(G)\n",
        "  visited = [False]*n\n",
        "  path = [-1]*n\n",
        "  cost = [math.inf]*n\n",
        "  q = [(0, 0)]\n",
        "  while q:\n",
        "    _, u = hq.heappop(q)\n",
        "    if not visited[u]:\n",
        "      visited[u] = True\n",
        "      for v, w in G[u]:\n",
        "        if not visited[v] and w < cost[v]:\n",
        "          cost[v] = w\n",
        "          path[v] = u\n",
        "          hq.heappush(q, (w, v))\n",
        "\n",
        "  return path, cost"
      ],
      "execution_count": 9,
      "outputs": []
    },
    {
      "cell_type": "code",
      "metadata": {
        "colab": {
          "base_uri": "https://localhost:8080/",
          "height": 401
        },
        "id": "cP8vg0-qrKSt",
        "outputId": "c31bc111-ee03-4a10-af69-fa7e8390291c"
      },
      "source": [
        "path, cost = prim(G)\n",
        "print(path)\n",
        "print(cost)\n",
        "adjlShow(G, weighted=True, path=path)"
      ],
      "execution_count": 10,
      "outputs": [
        {
          "output_type": "stream",
          "name": "stdout",
          "text": [
            "[-1, 2, 0, 1, 7, 3, 5, 6]\n",
            "[inf, 1, 3, 7, 6, 2, 2, 1]\n"
          ]
        },
        {
          "output_type": "execute_result",
          "data": {
            "text/plain": [
              "<graphviz.dot.Graph at 0x7f82be9b0350>"
            ],
            "image/svg+xml": "<?xml version=\"1.0\" encoding=\"UTF-8\" standalone=\"no\"?>\n<!DOCTYPE svg PUBLIC \"-//W3C//DTD SVG 1.1//EN\"\n \"http://www.w3.org/Graphics/SVG/1.1/DTD/svg11.dtd\">\n<!-- Generated by graphviz version 2.40.1 (20161225.0304)\n -->\n<!-- Title: G Pages: 1 -->\n<svg width=\"463pt\" height=\"259pt\"\n viewBox=\"0.00 0.00 463.45 258.60\" xmlns=\"http://www.w3.org/2000/svg\" xmlns:xlink=\"http://www.w3.org/1999/xlink\">\n<g id=\"graph0\" class=\"graph\" transform=\"scale(1 1) rotate(0) translate(4 254.598)\">\n<title>G</title>\n<polygon fill=\"#ffffff\" stroke=\"transparent\" points=\"-4,4 -4,-254.598 459.4537,-254.598 459.4537,4 -4,4\"/>\n<!-- 0 -->\n<g id=\"node1\" class=\"node\">\n<title>0</title>\n<ellipse fill=\"none\" stroke=\"#ff4500\" cx=\"289.0585\" cy=\"-141.0867\" rx=\"15.6129\" ry=\"12.0417\"/>\n<text text-anchor=\"middle\" x=\"289.0585\" y=\"-139.1867\" font-family=\"monospace\" font-size=\"8.00\" fill=\"#7b68ee\">0</text>\n</g>\n<!-- 2 -->\n<g id=\"node3\" class=\"node\">\n<title>2</title>\n<ellipse fill=\"none\" stroke=\"#ff4500\" cx=\"155.9407\" cy=\"-141.5879\" rx=\"15.6129\" ry=\"12.0417\"/>\n<text text-anchor=\"middle\" x=\"155.9407\" y=\"-139.6879\" font-family=\"monospace\" font-size=\"8.00\" fill=\"#7b68ee\">2</text>\n</g>\n<!-- 0&#45;&#45;2 -->\n<g id=\"edge3\" class=\"edge\">\n<title>0&#45;&#45;2</title>\n<path fill=\"none\" stroke=\"#ffa500\" stroke-width=\"2\" d=\"M273.2654,-141.1462C250.7481,-141.231 209.1458,-141.3876 182.0153,-141.4898\"/>\n<polygon fill=\"#ffa500\" stroke=\"#ffa500\" stroke-width=\"2\" points=\"181.7,-137.9908 171.7133,-141.5285 181.7264,-144.9908 181.7,-137.9908\"/>\n<text text-anchor=\"middle\" x=\"224.6404\" y=\"-143.918\" font-family=\"monospace\" font-size=\"8.00\" fill=\"#000000\">3</text>\n</g>\n<!-- 3 -->\n<g id=\"node4\" class=\"node\">\n<title>3</title>\n<ellipse fill=\"none\" stroke=\"#ff4500\" cx=\"196.6157\" cy=\"-37.394\" rx=\"15.6129\" ry=\"12.0417\"/>\n<text text-anchor=\"middle\" x=\"196.6157\" y=\"-35.494\" font-family=\"monospace\" font-size=\"8.00\" fill=\"#7b68ee\">3</text>\n</g>\n<!-- 0&#45;&#45;3 -->\n<g id=\"edge9\" class=\"edge\">\n<title>0&#45;&#45;3</title>\n<path fill=\"none\" stroke=\"#c0c0c0\" d=\"M280.1947,-131.1442C262.5703,-111.375 223.3017,-67.3276 205.5885,-47.4588\"/>\n<text text-anchor=\"middle\" x=\"239.8916\" y=\"-91.9015\" font-family=\"monospace\" font-size=\"8.00\" fill=\"#000000\">8</text>\n</g>\n<!-- 4 -->\n<g id=\"node5\" class=\"node\">\n<title>4</title>\n<ellipse fill=\"none\" stroke=\"#ff4500\" cx=\"200.9814\" cy=\"-238.5772\" rx=\"15.6129\" ry=\"12.0417\"/>\n<text text-anchor=\"middle\" x=\"200.9814\" y=\"-236.6772\" font-family=\"monospace\" font-size=\"8.00\" fill=\"#7b68ee\">4</text>\n</g>\n<!-- 0&#45;&#45;4 -->\n<g id=\"edge10\" class=\"edge\">\n<title>0&#45;&#45;4</title>\n<path fill=\"none\" stroke=\"#c0c0c0\" d=\"M279.9645,-151.1527C262.9989,-169.9315 226.7222,-210.0853 209.8948,-228.7112\"/>\n<text text-anchor=\"middle\" x=\"241.9296\" y=\"-192.532\" font-family=\"monospace\" font-size=\"8.00\" fill=\"#000000\">9</text>\n</g>\n<!-- 1 -->\n<g id=\"node2\" class=\"node\">\n<title>1</title>\n<ellipse fill=\"none\" stroke=\"#ff4500\" cx=\"109.782\" cy=\"-12.0208\" rx=\"15.6129\" ry=\"12.0417\"/>\n<text text-anchor=\"middle\" x=\"109.782\" y=\"-10.1208\" font-family=\"monospace\" font-size=\"8.00\" fill=\"#7b68ee\">1</text>\n</g>\n<!-- 1&#45;&#45;3 -->\n<g id=\"edge4\" class=\"edge\">\n<title>1&#45;&#45;3</title>\n<path fill=\"none\" stroke=\"#ffa500\" stroke-width=\"2\" d=\"M124.5122,-16.325C137.4859,-20.116 156.6452,-25.7145 171.9537,-30.1877\"/>\n<polygon fill=\"#ffa500\" stroke=\"#ffa500\" stroke-width=\"2\" points=\"171.233,-33.6234 181.8133,-33.0687 173.1964,-26.9043 171.233,-33.6234\"/>\n<text text-anchor=\"middle\" x=\"145.2329\" y=\"-25.8563\" font-family=\"monospace\" font-size=\"8.00\" fill=\"#000000\">7</text>\n</g>\n<!-- 5 -->\n<g id=\"node6\" class=\"node\">\n<title>5</title>\n<ellipse fill=\"none\" stroke=\"#ff4500\" cx=\"65.036\" cy=\"-95.9446\" rx=\"15.6129\" ry=\"12.0417\"/>\n<text text-anchor=\"middle\" x=\"65.036\" y=\"-94.0446\" font-family=\"monospace\" font-size=\"8.00\" fill=\"#7b68ee\">5</text>\n</g>\n<!-- 1&#45;&#45;5 -->\n<g id=\"edge11\" class=\"edge\">\n<title>1&#45;&#45;5</title>\n<path fill=\"none\" stroke=\"#c0c0c0\" d=\"M103.7474,-23.3391C95.1596,-39.446 79.5101,-68.7976 70.9751,-84.8055\"/>\n<text text-anchor=\"middle\" x=\"84.3612\" y=\"-56.6723\" font-family=\"monospace\" font-size=\"8.00\" fill=\"#000000\">7</text>\n</g>\n<!-- 2&#45;&#45;1 -->\n<g id=\"edge2\" class=\"edge\">\n<title>2&#45;&#45;1</title>\n<path fill=\"none\" stroke=\"#ffa500\" stroke-width=\"2\" d=\"M151.681,-129.6308C143.8837,-107.7439 127.2188,-60.9657 117.4186,-33.4566\"/>\n<polygon fill=\"#ffa500\" stroke=\"#ffa500\" stroke-width=\"2\" points=\"120.6845,-32.1945 114.0315,-23.949 114.0905,-34.5437 120.6845,-32.1945\"/>\n<text text-anchor=\"middle\" x=\"131.5498\" y=\"-84.1437\" font-family=\"monospace\" font-size=\"8.00\" fill=\"#000000\">1</text>\n</g>\n<!-- 2&#45;&#45;4 -->\n<g id=\"edge12\" class=\"edge\">\n<title>2&#45;&#45;4</title>\n<path fill=\"none\" stroke=\"#c0c0c0\" d=\"M161.2843,-153.0947C169.9528,-171.7612 186.9807,-208.4286 195.6447,-227.0854\"/>\n<text text-anchor=\"middle\" x=\"175.4645\" y=\"-192.6901\" font-family=\"monospace\" font-size=\"8.00\" fill=\"#000000\">8</text>\n</g>\n<!-- 6 -->\n<g id=\"node7\" class=\"node\">\n<title>6</title>\n<ellipse fill=\"none\" stroke=\"#ff4500\" cx=\"15.5563\" cy=\"-173.3805\" rx=\"15.6129\" ry=\"12.0417\"/>\n<text text-anchor=\"middle\" x=\"15.5563\" y=\"-171.4805\" font-family=\"monospace\" font-size=\"8.00\" fill=\"#7b68ee\">6</text>\n</g>\n<!-- 2&#45;&#45;6 -->\n<g id=\"edge13\" class=\"edge\">\n<title>2&#45;&#45;6</title>\n<path fill=\"none\" stroke=\"#c0c0c0\" d=\"M140.9171,-144.9903C114.0386,-151.0774 58.0038,-163.7675 30.8975,-169.9063\"/>\n<text text-anchor=\"middle\" x=\"82.9073\" y=\"-160.0483\" font-family=\"monospace\" font-size=\"8.00\" fill=\"#000000\">7</text>\n</g>\n<!-- 3&#45;&#45;5 -->\n<g id=\"edge6\" class=\"edge\">\n<title>3&#45;&#45;5</title>\n<path fill=\"none\" stroke=\"#ffa500\" stroke-width=\"2\" d=\"M183.0299,-43.4394C160.5739,-53.4319 115.4709,-73.5019 87.9954,-85.728\"/>\n<polygon fill=\"#ffa500\" stroke=\"#ffa500\" stroke-width=\"2\" points=\"86.4583,-82.5811 78.745,-89.8443 89.3042,-88.9765 86.4583,-82.5811\"/>\n<text text-anchor=\"middle\" x=\"132.5127\" y=\"-67.1837\" font-family=\"monospace\" font-size=\"8.00\" fill=\"#000000\">2</text>\n</g>\n<!-- 5&#45;&#45;6 -->\n<g id=\"edge7\" class=\"edge\">\n<title>5&#45;&#45;6</title>\n<path fill=\"none\" stroke=\"#ffa500\" stroke-width=\"2\" d=\"M57.9468,-107.0392C50.1574,-119.2297 37.497,-139.0433 28.0369,-153.8484\"/>\n<polygon fill=\"#ffa500\" stroke=\"#ffa500\" stroke-width=\"2\" points=\"25.0676,-151.9952 22.6324,-162.3064 30.9662,-155.7643 25.0676,-151.9952\"/>\n<text text-anchor=\"middle\" x=\"39.9919\" y=\"-133.0438\" font-family=\"monospace\" font-size=\"8.00\" fill=\"#000000\">2</text>\n</g>\n<!-- 7 -->\n<g id=\"node8\" class=\"node\">\n<title>7</title>\n<ellipse fill=\"none\" stroke=\"#ff4500\" cx=\"71.3248\" cy=\"-236.9944\" rx=\"15.6129\" ry=\"12.0417\"/>\n<text text-anchor=\"middle\" x=\"71.3248\" y=\"-235.0944\" font-family=\"monospace\" font-size=\"8.00\" fill=\"#7b68ee\">7</text>\n</g>\n<!-- 5&#45;&#45;7 -->\n<g id=\"edge14\" class=\"edge\">\n<title>5&#45;&#45;7</title>\n<path fill=\"none\" stroke=\"#c0c0c0\" d=\"M65.5722,-107.9704C66.7544,-134.4854 69.5747,-197.7424 70.772,-224.597\"/>\n<text text-anchor=\"middle\" x=\"65.1721\" y=\"-168.8837\" font-family=\"monospace\" font-size=\"8.00\" fill=\"#000000\">9</text>\n</g>\n<!-- 6&#45;&#45;7 -->\n<g id=\"edge8\" class=\"edge\">\n<title>6&#45;&#45;7</title>\n<path fill=\"none\" stroke=\"#ffa500\" stroke-width=\"2\" d=\"M24.5165,-183.6012C32.9404,-193.2102 45.7273,-207.7959 55.8089,-219.2958\"/>\n<polygon fill=\"#ffa500\" stroke=\"#ffa500\" stroke-width=\"2\" points=\"53.3467,-221.7966 62.5707,-227.0089 58.6104,-217.182 53.3467,-221.7966\"/>\n<text text-anchor=\"middle\" x=\"37.1627\" y=\"-204.0485\" font-family=\"monospace\" font-size=\"8.00\" fill=\"#000000\">1</text>\n</g>\n<!-- 7&#45;&#45;4 -->\n<g id=\"edge5\" class=\"edge\">\n<title>7&#45;&#45;4</title>\n<path fill=\"none\" stroke=\"#ffa500\" stroke-width=\"2\" d=\"M86.9644,-237.1854C108.8672,-237.4527 148.9428,-237.9419 175.2706,-238.2633\"/>\n<polygon fill=\"#ffa500\" stroke=\"#ffa500\" stroke-width=\"2\" points=\"175.2443,-241.7632 185.2863,-238.3856 175.3298,-234.7637 175.2443,-241.7632\"/>\n<text text-anchor=\"middle\" x=\"128.1175\" y=\"-240.3243\" font-family=\"monospace\" font-size=\"8.00\" fill=\"#000000\">6</text>\n</g>\n<!-- &#45;1 -->\n<g id=\"node9\" class=\"node\">\n<title>&#45;1</title>\n<ellipse fill=\"none\" stroke=\"#ff4500\" cx=\"436.3618\" cy=\"-147.2191\" rx=\"19.1842\" ry=\"12.0417\"/>\n<text text-anchor=\"middle\" x=\"436.3618\" y=\"-145.3191\" font-family=\"monospace\" font-size=\"8.00\" fill=\"#7b68ee\">&#45;1</text>\n</g>\n<!-- &#45;1&#45;&#45;0 -->\n<g id=\"edge1\" class=\"edge\">\n<title>&#45;1&#45;&#45;0</title>\n<path fill=\"none\" stroke=\"#ffa500\" stroke-width=\"2\" d=\"M417.1044,-146.4174C390.9655,-145.3292 344.1743,-143.3813 314.973,-142.1656\"/>\n<polygon fill=\"#ffa500\" stroke=\"#ffa500\" stroke-width=\"2\" points=\"314.8592,-138.6579 304.7223,-141.7388 314.568,-145.6519 314.8592,-138.6579\"/>\n<text text-anchor=\"middle\" x=\"363.0387\" y=\"-146.8915\" font-family=\"monospace\" font-size=\"8.00\" fill=\"#000000\">1</text>\n</g>\n</g>\n</svg>\n"
          },
          "metadata": {},
          "execution_count": 10
        }
      ]
    },
    {
      "cell_type": "code",
      "metadata": {
        "id": "YfcBpGkarS7D"
      },
      "source": [
        ""
      ],
      "execution_count": null,
      "outputs": []
    }
  ]
}