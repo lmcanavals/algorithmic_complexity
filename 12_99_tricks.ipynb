{
  "nbformat": 4,
  "nbformat_minor": 0,
  "metadata": {
    "colab": {
      "name": "12-99-tricks.ipynb",
      "provenance": [],
      "authorship_tag": "ABX9TyPSuSmq/jSnIMKL7X5WV6Nu",
      "include_colab_link": true
    },
    "kernelspec": {
      "name": "python3",
      "display_name": "Python 3"
    },
    "language_info": {
      "name": "python"
    }
  },
  "cells": [
    {
      "cell_type": "markdown",
      "metadata": {
        "id": "view-in-github",
        "colab_type": "text"
      },
      "source": [
        "<a href=\"https://colab.research.google.com/github/lmcanavals/algorithmic_complexity/blob/main/12_99_tricks.ipynb\" target=\"_parent\"><img src=\"https://colab.research.google.com/assets/colab-badge.svg\" alt=\"Open In Colab\"/></a>"
      ]
    },
    {
      "cell_type": "code",
      "metadata": {
        "colab": {
          "base_uri": "https://localhost:8080/"
        },
        "id": "GFZTPxPYx6jk",
        "outputId": "d012bcce-5cfe-48be-a075-db2789b315bb"
      },
      "source": [
        "%%file 1.in\n",
        "4\n",
        "4\n",
        "3\n",
        "0 1\n",
        "2 1\n",
        "1 3\n",
        "0 3\n",
        "2\n",
        "1\n",
        "0 1\n",
        "1 0\n",
        "8\n",
        "7\n",
        "0 1\n",
        "1 2\n",
        "1 3\n",
        "2 4\n",
        "3 5\n",
        "5 6\n",
        "6 7\n",
        "0 7\n",
        "8\n",
        "7\n",
        "0 1\n",
        "1 2\n",
        "1 3\n",
        "2 4\n",
        "3 5\n",
        "5 6\n",
        "6 7\n",
        "7 0"
      ],
      "execution_count": 1,
      "outputs": [
        {
          "output_type": "stream",
          "name": "stdout",
          "text": [
            "Writing 1.in\n"
          ]
        }
      ]
    },
    {
      "cell_type": "code",
      "metadata": {
        "colab": {
          "base_uri": "https://localhost:8080/"
        },
        "id": "HW6Jtw07x9DI",
        "outputId": "89274cb4-04d9-4fa4-e711-f7213d52b9c1"
      },
      "source": [
        "%%file 1.py\n",
        "def floydWarshall(G):\n",
        "  n = len(G)\n",
        "\n",
        "  # initialize\n",
        "  cost = [[float('inf')]*n for _ in range(n)]\n",
        "  path = [[-1]*n for _ in range(n)]\n",
        "\n",
        "  for u in range(n):\n",
        "    cost[u][u] = 0\n",
        "    for v, w in G[u]:\n",
        "      cost[u][v] = w\n",
        "      path[u][v] = u\n",
        "\n",
        "  # relax\n",
        "  for k in range(n):\n",
        "    for i in range(n):\n",
        "      if i == k: continue\n",
        "      for j in range(n):\n",
        "        if i == j or j == k: continue\n",
        "        f = cost[i][k] + cost[k][j]\n",
        "        if f < cost[i][j]:\n",
        "          cost[i][j] = f\n",
        "          path[i][j] = path[k][j]\n",
        "\n",
        "  return path, cost\n",
        "\n",
        "\n",
        "T = int(input().strip())\n",
        "\n",
        "for case in range(T):\n",
        "  N = int(input().strip())\n",
        "  R = int(input().strip())\n",
        "\n",
        "  G = [[] for _ in range(N)]\n",
        "  for _ in range(R):\n",
        "    u, v = map(int, input().strip().split())\n",
        "    G[u].append((v, 1))\n",
        "    G[v].append((u, 1))\n",
        "\n",
        "  s, d = map(int, input().strip().split())\n",
        "\n",
        "  path, cost = floydWarshall(G)\n",
        "  maxi = 0\n",
        "  farthest = 0\n",
        "  for i in range(N):\n",
        "    if path[s][i] != -1 and path[s][i] != d:\n",
        "      if cost[s][i] > maxi:\n",
        "        maxi = cost[s][i]\n",
        "        farthest = i\n",
        "  for i in range(N):\n",
        "    if path[d][i] != -1 and path[s][i] != s:\n",
        "      if cost[d][i] > maxi:\n",
        "        maxi = cost[d][i]\n",
        "        farthest = i\n",
        "\n",
        "  print(f\"case {case + 1}: {cost[farthest][s] + cost[farthest][d]}\")\n"
      ],
      "execution_count": 2,
      "outputs": [
        {
          "output_type": "stream",
          "name": "stdout",
          "text": [
            "Writing 1.py\n"
          ]
        }
      ]
    },
    {
      "cell_type": "code",
      "metadata": {
        "colab": {
          "base_uri": "https://localhost:8080/"
        },
        "id": "smjAq60yyFIn",
        "outputId": "fdb3c3a1-c3a7-4465-e629-24de09c90bed"
      },
      "source": [
        "!python 1.py < 1.in"
      ],
      "execution_count": 3,
      "outputs": [
        {
          "output_type": "stream",
          "name": "stdout",
          "text": [
            "case 1: 4\n",
            "case 2: 1\n",
            "case 3: 9\n",
            "case 4: 9\n"
          ]
        }
      ]
    },
    {
      "cell_type": "code",
      "metadata": {
        "id": "d3ecKaRnyHY0"
      },
      "source": [
        "def cool_stuff():\n",
        "  with open(\"1.in\") as f:\n",
        "    for l in f:\n",
        "      yield l\n",
        "  yield \"\"\n",
        "\n",
        "pseudo_stdin = cool_stuff()\n",
        "\n",
        "def input(): # Esta función reemplaza a input() solo para probar en jupyter\n",
        "  return next(pseudo_stdin)"
      ],
      "execution_count": 4,
      "outputs": []
    },
    {
      "cell_type": "code",
      "metadata": {
        "id": "AaZ-yu0VyYUY"
      },
      "source": [
        "def floydWarshall(G):\n",
        "  n = len(G)\n",
        "\n",
        "  # initialize\n",
        "  cost = [[float('inf')]*n for _ in range(n)]\n",
        "  path = [[-1]*n for _ in range(n)]\n",
        "\n",
        "  for u in range(n):\n",
        "    cost[u][u] = 0\n",
        "    for v, w in G[u]:\n",
        "      cost[u][v] = w\n",
        "      path[u][v] = u\n",
        "\n",
        "  # relax\n",
        "  for k in range(n):\n",
        "    for i in range(n):\n",
        "      if i == k: continue\n",
        "      for j in range(n):\n",
        "        if i == j or j == k: continue\n",
        "        f = cost[i][k] + cost[k][j]\n",
        "        if f < cost[i][j]:\n",
        "          cost[i][j] = f\n",
        "          path[i][j] = path[k][j]\n",
        "\n",
        "  return path, cost"
      ],
      "execution_count": 5,
      "outputs": []
    },
    {
      "cell_type": "code",
      "metadata": {
        "colab": {
          "base_uri": "https://localhost:8080/"
        },
        "id": "O0ajZekKycqh",
        "outputId": "55653993-7678-46d8-ac0a-fe30c6f40934"
      },
      "source": [
        "T = int(input().strip())\n",
        "\n",
        "for case in range(T):\n",
        "  N = int(input().strip())\n",
        "  R = int(input().strip())\n",
        "\n",
        "  G = [[] for _ in range(N)]\n",
        "  for _ in range(R):\n",
        "    u, v = map(int, input().strip().split())\n",
        "    G[u].append((v, 1))\n",
        "    G[v].append((u, 1))\n",
        "\n",
        "  s, d = map(int, input().strip().split())\n",
        "\n",
        "  path, cost = floydWarshall(G)\n",
        "  maxi = 0\n",
        "  farthest = 0\n",
        "  for i in range(N):\n",
        "    if path[s][i] != -1 and path[s][i] != d:\n",
        "      if cost[s][i] > maxi:\n",
        "        maxi = cost[s][i]\n",
        "        farthest = i\n",
        "  for i in range(N):\n",
        "    if path[d][i] != -1 and path[s][i] != s:\n",
        "      if cost[d][i] > maxi:\n",
        "        maxi = cost[d][i]\n",
        "        farthest = i\n",
        "\n",
        "  print(f\"case {case + 1}: {cost[farthest][s] + cost[farthest][d]}\")"
      ],
      "execution_count": 6,
      "outputs": [
        {
          "output_type": "stream",
          "name": "stdout",
          "text": [
            "case 1: 4\n",
            "case 2: 1\n",
            "case 3: 9\n",
            "case 4: 9\n"
          ]
        }
      ]
    },
    {
      "cell_type": "code",
      "metadata": {
        "id": "FNGEyHnOyh0y"
      },
      "source": [
        ""
      ],
      "execution_count": null,
      "outputs": []
    }
  ]
}