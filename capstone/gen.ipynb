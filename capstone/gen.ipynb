{
 "cells": [
  {
   "cell_type": "code",
   "execution_count": 1,
   "metadata": {},
   "outputs": [],
   "source": [
    "import random\n",
    "\n",
    "points = []\n",
    "for i in range(10):\n",
    "  for j in range(10):\n",
    "    points.append((i, j))\n",
    "\n",
    "random.shuffle(points)\n",
    "\n",
    "with open(\"puntosentrega.csv\", 'w') as f:\n",
    "  for i in points[:20]:\n",
    "    f.write(str(i[0]) + \",\" + str(i[1]) + \"\\n\")\n",
    "\n",
    "with open(\"almacenes.csv\", 'w') as f:\n",
    "  for i in points[20:23]:\n",
    "    f.write(str(i[0]) + \",\" + str(i[1]) + \"\\n\")"
   ]
  },
  {
   "cell_type": "code",
   "execution_count": 6,
   "metadata": {},
   "outputs": [],
   "source": [
    "def add(G, u, n, i, j):\n",
    "  if i < 0 or i >= len(G) or j < 0 or j >= len(G):\n",
    "    return\n",
    "  v = i * n + j\n",
    "  G[u].append(v)\n",
    "\n",
    "def generateGridGraph(n):\n",
    "  G = [[] for _ in range(n**2)]\n",
    "  for i in range(n):\n",
    "    for j in range(n):\n",
    "      u = i * n + j\n",
    "      add(G, u, n, i, j - 1)\n",
    "      add(G, u, n, i, j + 1)\n",
    "      add(G, u, n, i - 1, j)\n",
    "      add(G, u, n, i + 1, j)\n",
    "\n",
    "  return G"
   ]
  },
  {
   "cell_type": "code",
   "execution_count": null,
   "metadata": {},
   "outputs": [],
   "source": [
    "import graphviz as gv\n",
    "\n",
    "G = generateGridGraph(10)\n",
    "\n",
    "g = gv.Graph(\"test\")\n",
    "n = len(G)\n",
    "for i in range(n):\n",
    "  g.node(str(i))\n",
    "\n",
    "for u in range(n):\n",
    "  for v in G[u]:\n",
    "    g.edge(str(u), str(v))\n",
    "\n",
    "print(g)"
   ]
  },
  {
   "cell_type": "code",
   "execution_count": null,
   "metadata": {},
   "outputs": [],
   "source": [
    "\n"
   ]
  }
 ],
 "metadata": {
  "interpreter": {
   "hash": "4f474a86eed9e6c4670bf29d3a8d4cd0e4752b3ab299a79a6cb3933799429917"
  },
  "kernelspec": {
   "display_name": "Python 3.9.7 64-bit ('Ξ': conda)",
   "name": "python3"
  },
  "language_info": {
   "codemirror_mode": {
    "name": "ipython",
    "version": 3
   },
   "file_extension": ".py",
   "mimetype": "text/x-python",
   "name": "python",
   "nbconvert_exporter": "python",
   "pygments_lexer": "ipython3",
   "version": "3.9.7"
  },
  "orig_nbformat": 4
 },
 "nbformat": 4,
 "nbformat_minor": 2
}
